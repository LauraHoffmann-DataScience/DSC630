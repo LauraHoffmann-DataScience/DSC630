{
 "cells": [
  {
   "cell_type": "markdown",
   "metadata": {},
   "source": [
    "## Course: DSC630\n",
    "## Assignment: 7.3 Assignment\n",
    "## Name: Laura Hoffmann\n",
    "## Date: 7/22/2021\n",
    "\n",
    "Calculate the probability of a model ensemble that uses simple majority voting making an incorrect prediction in the following scenarios. (Hint: Understanding how to use the binomial distribution will be useful in answering this question.)"
   ]
  },
  {
   "cell_type": "code",
   "execution_count": 1,
   "metadata": {},
   "outputs": [],
   "source": [
    "from scipy.stats import binom\n",
    "import matplotlib.pyplot as plt\n",
    "import numpy as np\n",
    "import math"
   ]
  },
  {
   "cell_type": "code",
   "execution_count": 2,
   "metadata": {},
   "outputs": [],
   "source": [
    "# Creating a function to calculate the error rate\n",
    "def ensemble_ER(n, err):\n",
    "    \n",
    "    # Define empty list\n",
    "    ER = []\n",
    "\n",
    "    # Calculate p\n",
    "    p = 1-err\n",
    "\n",
    "    # Define the list of r values\n",
    "    rvalues = list(range(n + 1))\n",
    "\n",
    "    # List of probability mass function values\n",
    "    pmfvs = [binom.pmf(r, n, p) for r in rvalues]\n",
    "    \n",
    "    for i in range(n + 1):\n",
    "        if i > n/2:\n",
    "            ER.append(pmfvs[i])\n",
    "            \n",
    "    # Print results\n",
    "    print(\"The probability of a model ensemble with {} independent models and an error rate of {} producing an incorrect prediction:\".format(n, err), round((1-sum(ER)) * 100,2), \"\\b%\")"
   ]
  },
  {
   "cell_type": "markdown",
   "metadata": {},
   "source": [
    "### The ensemble contains 11 independent models, all of which have an error rate of 0.2."
   ]
  },
  {
   "cell_type": "code",
   "execution_count": 3,
   "metadata": {},
   "outputs": [
    {
     "name": "stdout",
     "output_type": "stream",
     "text": [
      "The probability of a model ensemble with 11 independent models and an error rate of 0.2 producing an incorrect prediction: 1.17 \b%\n"
     ]
    }
   ],
   "source": [
    "ensemble_ER(11, 0.2)"
   ]
  },
  {
   "cell_type": "markdown",
   "metadata": {},
   "source": [
    "### The ensemble contains 11 independent models, all of which have an error rate of 0.49."
   ]
  },
  {
   "cell_type": "code",
   "execution_count": 4,
   "metadata": {},
   "outputs": [
    {
     "name": "stdout",
     "output_type": "stream",
     "text": [
      "The probability of a model ensemble with 11 independent models and an error rate of 0.49 producing an incorrect prediction: 47.29 \b%\n"
     ]
    }
   ],
   "source": [
    "ensemble_ER(11, 0.49)"
   ]
  },
  {
   "cell_type": "markdown",
   "metadata": {},
   "source": [
    "### The ensemble contains 21 independent models, all of which have an error rate of 0.49."
   ]
  },
  {
   "cell_type": "code",
   "execution_count": 5,
   "metadata": {
    "scrolled": true
   },
   "outputs": [
    {
     "name": "stdout",
     "output_type": "stream",
     "text": [
      "The probability of a model ensemble with 21 independent models and an error rate of 0.49 producing an incorrect prediction: 46.3 \b%\n"
     ]
    }
   ],
   "source": [
    "ensemble_ER(21, 0.49)"
   ]
  },
  {
   "cell_type": "markdown",
   "metadata": {},
   "source": [
    "### Visualizing the Probabilities"
   ]
  },
  {
   "cell_type": "code",
   "execution_count": 6,
   "metadata": {},
   "outputs": [
    {
     "name": "stdout",
     "output_type": "stream",
     "text": [
      "r\tp(r)\n",
      "0\t0.0003909821048582986\n",
      "1\t0.004476346139296031\n",
      "2\t0.023295270724907946\n",
      "3\t0.07273829430430437\n",
      "4\t0.1514144085518173\n",
      "5\t0.22063242388979074\n",
      "6\t0.2296378289465168\n",
      "7\t0.1707220011118421\n",
      "8\t0.0888451230275913\n",
      "9\t0.030823818193245967\n",
      "10\t0.006416386644308338\n",
      "11\t0.0006071163615208261\n"
     ]
    },
    {
     "data": {
      "image/png": "[encoded data removed]",
      "text/plain": [
       "<Figure size 432x288 with 1 Axes>"
      ]
     },
     "metadata": {
      "needs_background": "light"
     },
     "output_type": "display_data"
    }
   ],
   "source": [
    "# Table with probabilities \n",
    "\n",
    "# Define values for n and p\n",
    "n = 11 # Number of independent models\n",
    "p = 0.51 # Majority\n",
    "\n",
    "# Define the list of r values\n",
    "rvalues = list(range(n + 1))\n",
    "\n",
    "# Get the mean and variance \n",
    "mean, var = binom.stats(n, p)\n",
    "\n",
    "# List pmf values\n",
    "pmfvs = [binom.pmf(r, n, p) for r in rvalues ]\n",
    "\n",
    "# Print the table\n",
    "print(\"r\\tp(r)\")\n",
    "for i in range(n + 1):\n",
    "    print(str(rvalues[i]) + \"\\t\" + str(pmfvs[i]))\n",
    "\n",
    "    \n",
    "# Plot probabilities visual\n",
    "\n",
    "# List pmf values\n",
    "pmfvs = [binom.pmf(r, n, p) for r in rvalues]\n",
    "# Graph \n",
    "plt.bar(rvalues, pmfvs)\n",
    "plt.show()"
   ]
  }
 ],
 "metadata": {
  "kernelspec": {
   "display_name": "Python 3",
   "language": "python",
   "name": "python3"
  },
  "language_info": {
   "codemirror_mode": {
    "name": "ipython",
    "version": 3
   },
   "file_extension": ".py",
   "mimetype": "text/x-python",
   "name": "python",
   "nbconvert_exporter": "python",
   "pygments_lexer": "ipython3",
   "version": "3.8.3"
  }
 },
 "nbformat": 4,
 "nbformat_minor": 4
}
